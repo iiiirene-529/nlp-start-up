{
 "cells": [
  {
   "cell_type": "code",
   "execution_count": 5,
   "id": "952ac218",
   "metadata": {},
   "outputs": [],
   "source": [
    "import pandas as pd\n",
    "import numpy as np\n",
    "from sklearn.feature_extraction.text import CountVectorizer\n",
    "from sklearn.linear_model import LogisticRegression\n",
    "from sklearn.model_selection import train_test_split\n",
    "from sklearn.metrics import accuracy_score, precision_score, recall_score, f1_score\n",
    "\n"
   ]
  },
  {
   "cell_type": "code",
   "execution_count": 2,
   "id": "97b3d2bd",
   "metadata": {},
   "outputs": [
    {
     "name": "stderr",
     "output_type": "stream",
     "text": [
      "[nltk_data] Downloading package stopwords to /Users/justina-\n",
      "[nltk_data]     irene/nltk_data...\n",
      "[nltk_data]   Package stopwords is already up-to-date!\n",
      "[nltk_data] Downloading package wordnet to /Users/justina-\n",
      "[nltk_data]     irene/nltk_data...\n",
      "[nltk_data]   Package wordnet is already up-to-date!\n",
      "[nltk_data] Downloading package omw-1.4 to /Users/justina-\n",
      "[nltk_data]     irene/nltk_data...\n",
      "[nltk_data]   Package omw-1.4 is already up-to-date!\n"
     ]
    }
   ],
   "source": [
    "# for processing\n",
    "import re\n",
    "import nltk\n",
    "nltk.download('stopwords')\n",
    "nltk.download('wordnet')\n",
    "nltk.download('omw-1.4')\n",
    "\n",
    "# for bag-of-words\n",
    "from sklearn import feature_extraction, feature_selection, model_selection, naive_bayes, pipeline, manifold, preprocessing, metrics\n",
    "from sklearn.model_selection import train_test_split\n",
    "from sklearn.utils import resample\n",
    "\n",
    "## for train test split\n",
    "import imblearn"
   ]
  },
  {
   "cell_type": "code",
   "execution_count": 3,
   "id": "e7c21c33",
   "metadata": {},
   "outputs": [
    {
     "data": {
      "text/html": [
       "<style>.container { width:100% !important; }</style>"
      ],
      "text/plain": [
       "<IPython.core.display.HTML object>"
      ]
     },
     "metadata": {},
     "output_type": "display_data"
    }
   ],
   "source": [
    "from IPython.display import display, HTML\n",
    "display(HTML(\"<style>.container { width:100% !important; }</style>\"))"
   ]
  },
  {
   "cell_type": "code",
   "execution_count": 4,
   "id": "6f1269b4",
   "metadata": {},
   "outputs": [
    {
     "name": "stdout",
     "output_type": "stream",
     "text": [
      "Index(['Unnamed: 0', 'Product', 'Issue', 'State', 'ZIP code', 'Complaint ID',\n",
      "       'Consumer complaint narrative', 'fourgram_narr'],\n",
      "      dtype='object')\n",
      "(500, 8)\n"
     ]
    }
   ],
   "source": [
    "cfpb_df = pd.read_csv('CFPB with preprocessing_4gram.csv')\n",
    "print(cfpb_df.columns)\n",
    "print(cfpb_df.shape)"
   ]
  },
  {
   "cell_type": "code",
   "execution_count": 6,
   "id": "bc3b4e64",
   "metadata": {},
   "outputs": [
    {
     "data": {
      "text/html": [
       "<div>\n",
       "<style scoped>\n",
       "    .dataframe tbody tr th:only-of-type {\n",
       "        vertical-align: middle;\n",
       "    }\n",
       "\n",
       "    .dataframe tbody tr th {\n",
       "        vertical-align: top;\n",
       "    }\n",
       "\n",
       "    .dataframe thead th {\n",
       "        text-align: right;\n",
       "    }\n",
       "</style>\n",
       "<table border=\"1\" class=\"dataframe\">\n",
       "  <thead>\n",
       "    <tr style=\"text-align: right;\">\n",
       "      <th></th>\n",
       "      <th>Unnamed: 0</th>\n",
       "      <th>Product</th>\n",
       "      <th>Issue</th>\n",
       "      <th>State</th>\n",
       "      <th>ZIP code</th>\n",
       "      <th>Complaint ID</th>\n",
       "      <th>Consumer complaint narrative</th>\n",
       "      <th>fourgram_narr</th>\n",
       "    </tr>\n",
       "  </thead>\n",
       "  <tbody>\n",
       "    <tr>\n",
       "      <th>0</th>\n",
       "      <td>286378</td>\n",
       "      <td>Money transfer, virtual currency, or money ser...</td>\n",
       "      <td>Fraud or scam</td>\n",
       "      <td>CA</td>\n",
       "      <td>90723.0</td>\n",
       "      <td>3691638</td>\n",
       "      <td>After reaching out to all the banking institut...</td>\n",
       "      <td>reach reach  bank bank institut bank institut ...</td>\n",
       "    </tr>\n",
       "    <tr>\n",
       "      <th>1</th>\n",
       "      <td>194417</td>\n",
       "      <td>Debt collection</td>\n",
       "      <td>Improper contact or sharing of info</td>\n",
       "      <td>MI</td>\n",
       "      <td>48017.0</td>\n",
       "      <td>1705054</td>\n",
       "      <td>keep getting calls from XXXX, when I talk to a...</td>\n",
       "      <td>keep get call get call call talk talk talk tal...</td>\n",
       "    </tr>\n",
       "    <tr>\n",
       "      <th>2</th>\n",
       "      <td>17019</td>\n",
       "      <td>Credit reporting, credit repair services, or o...</td>\n",
       "      <td>Problem with a credit reporting company's inve...</td>\n",
       "      <td>LA</td>\n",
       "      <td>70801.0</td>\n",
       "      <td>4606226</td>\n",
       "      <td>On XXXX XXXX I sent a letter regarding inaccur...</td>\n",
       "      <td>sent sent letter sent letter regard letter reg...</td>\n",
       "    </tr>\n",
       "    <tr>\n",
       "      <th>3</th>\n",
       "      <td>518951</td>\n",
       "      <td>Credit reporting, credit repair services, or o...</td>\n",
       "      <td>Problem with a credit reporting company's inve...</td>\n",
       "      <td>GA</td>\n",
       "      <td>30906.0</td>\n",
       "      <td>6230202</td>\n",
       "      <td>Hi, I can't believe you guys are taking advant...</td>\n",
       "      <td>hi cant believ cant believ cant believ guy bel...</td>\n",
       "    </tr>\n",
       "    <tr>\n",
       "      <th>4</th>\n",
       "      <td>326501</td>\n",
       "      <td>Credit reporting, credit repair services, or o...</td>\n",
       "      <td>Improper use of your report</td>\n",
       "      <td>SC</td>\n",
       "      <td>29526.0</td>\n",
       "      <td>5578601</td>\n",
       "      <td>In accordance with the Fair Credit Reporting a...</td>\n",
       "      <td>accord accord fair fair credit fair credit rep...</td>\n",
       "    </tr>\n",
       "  </tbody>\n",
       "</table>\n",
       "</div>"
      ],
      "text/plain": [
       "   Unnamed: 0                                            Product  \\\n",
       "0      286378  Money transfer, virtual currency, or money ser...   \n",
       "1      194417                                    Debt collection   \n",
       "2       17019  Credit reporting, credit repair services, or o...   \n",
       "3      518951  Credit reporting, credit repair services, or o...   \n",
       "4      326501  Credit reporting, credit repair services, or o...   \n",
       "\n",
       "                                               Issue State  ZIP code  \\\n",
       "0                                      Fraud or scam    CA   90723.0   \n",
       "1                Improper contact or sharing of info    MI   48017.0   \n",
       "2  Problem with a credit reporting company's inve...    LA   70801.0   \n",
       "3  Problem with a credit reporting company's inve...    GA   30906.0   \n",
       "4                        Improper use of your report    SC   29526.0   \n",
       "\n",
       "   Complaint ID                       Consumer complaint narrative  \\\n",
       "0       3691638  After reaching out to all the banking institut...   \n",
       "1       1705054  keep getting calls from XXXX, when I talk to a...   \n",
       "2       4606226  On XXXX XXXX I sent a letter regarding inaccur...   \n",
       "3       6230202  Hi, I can't believe you guys are taking advant...   \n",
       "4       5578601  In accordance with the Fair Credit Reporting a...   \n",
       "\n",
       "                                       fourgram_narr  \n",
       "0  reach reach  bank bank institut bank institut ...  \n",
       "1  keep get call get call call talk talk talk tal...  \n",
       "2  sent sent letter sent letter regard letter reg...  \n",
       "3  hi cant believ cant believ cant believ guy bel...  \n",
       "4  accord accord fair fair credit fair credit rep...  "
      ]
     },
     "execution_count": 6,
     "metadata": {},
     "output_type": "execute_result"
    }
   ],
   "source": [
    "cfpb_df.head(5)"
   ]
  },
  {
   "cell_type": "code",
   "execution_count": null,
   "id": "03587a2c",
   "metadata": {},
   "outputs": [],
   "source": [
    "def label_debt_collection(complaint_text):\n",
    "    '''\n",
    "    Label a complaint text as related to debt collection or not, based on the presence of certain keywords.\n",
    "    '''\n",
    "    keywords = ['collection agency', 'debt collector', 'collecting debt', 'owed money']\n",
    "    cleaned_text = unigram_preprocess_text(complaint_text)\n",
    "    for keyword in keywords:\n",
    "        if keyword in cleaned_text:\n",
    "            return 1  # complaint is related to debt collection\n",
    "    return 0  # complaint is not related to debt collection\n"
   ]
  },
  {
   "cell_type": "code",
   "execution_count": null,
   "id": "9bfdaa56",
   "metadata": {},
   "outputs": [],
   "source": [
    "vectorizer = CountVectorizer()\n",
    "X = vectorizer.fit_transform(df[''])\n",
    "\n"
   ]
  }
 ],
 "metadata": {
  "kernelspec": {
   "display_name": "Python 3",
   "language": "python",
   "name": "python3"
  },
  "language_info": {
   "codemirror_mode": {
    "name": "ipython",
    "version": 3
   },
   "file_extension": ".py",
   "mimetype": "text/x-python",
   "name": "python",
   "nbconvert_exporter": "python",
   "pygments_lexer": "ipython3",
   "version": "3.8.8"
  }
 },
 "nbformat": 4,
 "nbformat_minor": 5
}
